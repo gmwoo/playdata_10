{
 "cells": [
  {
   "cell_type": "markdown",
   "id": "80a9eb23",
   "metadata": {},
   "source": [
    "### names 폴더에 있는 데이터\n",
    "1. 2000 ~ 2009년 출생한 남, 여 파일 읽어서 concat\n",
    "2. 출생한 전체 남, 여 합 출력\n",
    "3. 남, 여 출생 추이"
   ]
  },
  {
   "cell_type": "code",
   "execution_count": 1,
   "id": "c3fcc4de",
   "metadata": {},
   "outputs": [],
   "source": [
    "import pandas as pd\n",
    "import glob\n",
    "import numpy as np\n",
    "import matplotlib.pyplot as plt\n",
    "import os\n",
    "import warnings\n",
    "warnings.filterwarnings(action='ignore')\n"
   ]
  },
  {
   "cell_type": "code",
   "execution_count": 10,
   "id": "2bb41150",
   "metadata": {},
   "outputs": [
    {
     "data": {
      "text/html": [
       "<div>\n",
       "<style scoped>\n",
       "    .dataframe tbody tr th:only-of-type {\n",
       "        vertical-align: middle;\n",
       "    }\n",
       "\n",
       "    .dataframe tbody tr th {\n",
       "        vertical-align: top;\n",
       "    }\n",
       "\n",
       "    .dataframe thead th {\n",
       "        text-align: right;\n",
       "    }\n",
       "</style>\n",
       "<table border=\"1\" class=\"dataframe\">\n",
       "  <thead>\n",
       "    <tr style=\"text-align: right;\">\n",
       "      <th></th>\n",
       "      <th>names</th>\n",
       "      <th>sex</th>\n",
       "      <th>2000</th>\n",
       "      <th>2001</th>\n",
       "      <th>2002</th>\n",
       "      <th>2003</th>\n",
       "      <th>2004</th>\n",
       "      <th>2005</th>\n",
       "      <th>2006</th>\n",
       "      <th>2007</th>\n",
       "      <th>2008</th>\n",
       "      <th>2009</th>\n",
       "    </tr>\n",
       "  </thead>\n",
       "  <tbody>\n",
       "    <tr>\n",
       "      <th>0</th>\n",
       "      <td>Emily</td>\n",
       "      <td>F</td>\n",
       "      <td>25956.0</td>\n",
       "      <td>25057.0</td>\n",
       "      <td>24464.0</td>\n",
       "      <td>25691.0</td>\n",
       "      <td>25037.0</td>\n",
       "      <td>23940.0</td>\n",
       "      <td>21404.0</td>\n",
       "      <td>19355.0</td>\n",
       "      <td>17434.0</td>\n",
       "      <td>15352.0</td>\n",
       "    </tr>\n",
       "    <tr>\n",
       "      <th>1</th>\n",
       "      <td>Hannah</td>\n",
       "      <td>F</td>\n",
       "      <td>23082.0</td>\n",
       "      <td>20716.0</td>\n",
       "      <td>18822.0</td>\n",
       "      <td>17637.0</td>\n",
       "      <td>15605.0</td>\n",
       "      <td>14845.0</td>\n",
       "      <td>14544.0</td>\n",
       "      <td>13312.0</td>\n",
       "      <td>9563.0</td>\n",
       "      <td>7572.0</td>\n",
       "    </tr>\n",
       "    <tr>\n",
       "      <th>2</th>\n",
       "      <td>Madison</td>\n",
       "      <td>F</td>\n",
       "      <td>19968.0</td>\n",
       "      <td>22164.0</td>\n",
       "      <td>21773.0</td>\n",
       "      <td>20199.0</td>\n",
       "      <td>20622.0</td>\n",
       "      <td>19568.0</td>\n",
       "      <td>18626.0</td>\n",
       "      <td>17961.0</td>\n",
       "      <td>17032.0</td>\n",
       "      <td>15239.0</td>\n",
       "    </tr>\n",
       "    <tr>\n",
       "      <th>3</th>\n",
       "      <td>Ashley</td>\n",
       "      <td>F</td>\n",
       "      <td>17997.0</td>\n",
       "      <td>16527.0</td>\n",
       "      <td>15344.0</td>\n",
       "      <td>14514.0</td>\n",
       "      <td>14373.0</td>\n",
       "      <td>13274.0</td>\n",
       "      <td>12346.0</td>\n",
       "      <td>11425.0</td>\n",
       "      <td>9403.0</td>\n",
       "      <td>7813.0</td>\n",
       "    </tr>\n",
       "    <tr>\n",
       "      <th>4</th>\n",
       "      <td>Sarah</td>\n",
       "      <td>F</td>\n",
       "      <td>17702.0</td>\n",
       "      <td>15899.0</td>\n",
       "      <td>14760.0</td>\n",
       "      <td>13760.0</td>\n",
       "      <td>12737.0</td>\n",
       "      <td>11532.0</td>\n",
       "      <td>11150.0</td>\n",
       "      <td>9992.0</td>\n",
       "      <td>9045.0</td>\n",
       "      <td>7780.0</td>\n",
       "    </tr>\n",
       "    <tr>\n",
       "      <th>...</th>\n",
       "      <td>...</td>\n",
       "      <td>...</td>\n",
       "      <td>...</td>\n",
       "      <td>...</td>\n",
       "      <td>...</td>\n",
       "      <td>...</td>\n",
       "      <td>...</td>\n",
       "      <td>...</td>\n",
       "      <td>...</td>\n",
       "      <td>...</td>\n",
       "      <td>...</td>\n",
       "      <td>...</td>\n",
       "    </tr>\n",
       "    <tr>\n",
       "      <th>60353</th>\n",
       "      <td>Zlatan</td>\n",
       "      <td>M</td>\n",
       "      <td>0.0</td>\n",
       "      <td>0.0</td>\n",
       "      <td>0.0</td>\n",
       "      <td>0.0</td>\n",
       "      <td>0.0</td>\n",
       "      <td>0.0</td>\n",
       "      <td>0.0</td>\n",
       "      <td>0.0</td>\n",
       "      <td>0.0</td>\n",
       "      <td>5.0</td>\n",
       "    </tr>\n",
       "    <tr>\n",
       "      <th>60354</th>\n",
       "      <td>Zykell</td>\n",
       "      <td>M</td>\n",
       "      <td>0.0</td>\n",
       "      <td>0.0</td>\n",
       "      <td>0.0</td>\n",
       "      <td>0.0</td>\n",
       "      <td>0.0</td>\n",
       "      <td>0.0</td>\n",
       "      <td>0.0</td>\n",
       "      <td>0.0</td>\n",
       "      <td>0.0</td>\n",
       "      <td>5.0</td>\n",
       "    </tr>\n",
       "    <tr>\n",
       "      <th>60355</th>\n",
       "      <td>Zyran</td>\n",
       "      <td>M</td>\n",
       "      <td>0.0</td>\n",
       "      <td>0.0</td>\n",
       "      <td>0.0</td>\n",
       "      <td>0.0</td>\n",
       "      <td>0.0</td>\n",
       "      <td>0.0</td>\n",
       "      <td>0.0</td>\n",
       "      <td>0.0</td>\n",
       "      <td>0.0</td>\n",
       "      <td>5.0</td>\n",
       "    </tr>\n",
       "    <tr>\n",
       "      <th>60356</th>\n",
       "      <td>Zyreion</td>\n",
       "      <td>M</td>\n",
       "      <td>0.0</td>\n",
       "      <td>0.0</td>\n",
       "      <td>0.0</td>\n",
       "      <td>0.0</td>\n",
       "      <td>0.0</td>\n",
       "      <td>0.0</td>\n",
       "      <td>0.0</td>\n",
       "      <td>0.0</td>\n",
       "      <td>0.0</td>\n",
       "      <td>5.0</td>\n",
       "    </tr>\n",
       "    <tr>\n",
       "      <th>60357</th>\n",
       "      <td>Zyvion</td>\n",
       "      <td>M</td>\n",
       "      <td>0.0</td>\n",
       "      <td>0.0</td>\n",
       "      <td>0.0</td>\n",
       "      <td>0.0</td>\n",
       "      <td>0.0</td>\n",
       "      <td>0.0</td>\n",
       "      <td>0.0</td>\n",
       "      <td>0.0</td>\n",
       "      <td>0.0</td>\n",
       "      <td>5.0</td>\n",
       "    </tr>\n",
       "  </tbody>\n",
       "</table>\n",
       "<p>60358 rows × 12 columns</p>\n",
       "</div>"
      ],
      "text/plain": [
       "         names sex     2000     2001     2002     2003     2004     2005  \\\n",
       "0        Emily   F  25956.0  25057.0  24464.0  25691.0  25037.0  23940.0   \n",
       "1       Hannah   F  23082.0  20716.0  18822.0  17637.0  15605.0  14845.0   \n",
       "2      Madison   F  19968.0  22164.0  21773.0  20199.0  20622.0  19568.0   \n",
       "3       Ashley   F  17997.0  16527.0  15344.0  14514.0  14373.0  13274.0   \n",
       "4        Sarah   F  17702.0  15899.0  14760.0  13760.0  12737.0  11532.0   \n",
       "...        ...  ..      ...      ...      ...      ...      ...      ...   \n",
       "60353   Zlatan   M      0.0      0.0      0.0      0.0      0.0      0.0   \n",
       "60354   Zykell   M      0.0      0.0      0.0      0.0      0.0      0.0   \n",
       "60355    Zyran   M      0.0      0.0      0.0      0.0      0.0      0.0   \n",
       "60356  Zyreion   M      0.0      0.0      0.0      0.0      0.0      0.0   \n",
       "60357   Zyvion   M      0.0      0.0      0.0      0.0      0.0      0.0   \n",
       "\n",
       "          2006     2007     2008     2009  \n",
       "0      21404.0  19355.0  17434.0  15352.0  \n",
       "1      14544.0  13312.0   9563.0   7572.0  \n",
       "2      18626.0  17961.0  17032.0  15239.0  \n",
       "3      12346.0  11425.0   9403.0   7813.0  \n",
       "4      11150.0   9992.0   9045.0   7780.0  \n",
       "...        ...      ...      ...      ...  \n",
       "60353      0.0      0.0      0.0      5.0  \n",
       "60354      0.0      0.0      0.0      5.0  \n",
       "60355      0.0      0.0      0.0      5.0  \n",
       "60356      0.0      0.0      0.0      5.0  \n",
       "60357      0.0      0.0      0.0      5.0  \n",
       "\n",
       "[60358 rows x 12 columns]"
      ]
     },
     "execution_count": 10,
     "metadata": {},
     "output_type": "execute_result"
    }
   ],
   "source": [
    "df_list = []\n",
    "a = [i for i in range(10)]\n",
    "\n",
    "for x in sorted(glob.glob('../../data/names/yob200*.txt')):\n",
    "    temp = pd.read_csv(x, names=['names','sex',str(200)+str(a[0])]) # 파일을 읽어오기\n",
    "    del a[0]\n",
    "    df_list.append(temp) # 읽어온 파일들을 빈리스트에 넣어주기 \n",
    "baby = df_list[0]\n",
    "for i in range(1, 10):\n",
    "    baby = baby.merge(df_list[i], how='outer')\n",
    "baby\n",
    "baby.fillna(0)"
   ]
  },
  {
   "cell_type": "code",
   "execution_count": 40,
   "id": "a1cb5618",
   "metadata": {
    "scrolled": true
   },
   "outputs": [
    {
     "data": {
      "text/plain": [
       "60358"
      ]
     },
     "execution_count": 40,
     "metadata": {},
     "output_type": "execute_result"
    }
   ],
   "source": [
    "total = baby.shape[0]\n",
    "total"
   ]
  },
  {
   "cell_type": "code",
   "execution_count": 76,
   "id": "b20a9e6e",
   "metadata": {},
   "outputs": [
    {
     "name": "stdout",
     "output_type": "stream",
     "text": [
      "445945\n"
     ]
    }
   ],
   "source": [
    "F_count = baby[baby['sex']=='F'].count().sum()\n",
    "M_count = baby[baby['sex']=='M'].count().sum()\n",
    "Total = [F_count, M_count]\n",
    "Total\n",
    "print(F_count+M_count)"
   ]
  },
  {
   "cell_type": "code",
   "execution_count": 75,
   "id": "ecf21ea4",
   "metadata": {},
   "outputs": [
    {
     "name": "stdout",
     "output_type": "stream",
     "text": [
      "191420\n",
      "133809\n",
      "325229\n"
     ]
    }
   ],
   "source": [
    "F_sum = 0\n",
    "M_sum = 0\n",
    "for i in range(10):\n",
    "    F_sum += df_list[i].sex.value_counts()[0]\n",
    "    M_sum += df_list[i].sex.value_counts()[1]\n",
    "print(F_sum)\n",
    "print(M_sum)\n",
    "print(F_sum + M_sum)\n",
    "T_sum = [F_sum, M_sum]"
   ]
  },
  {
   "cell_type": "code",
   "execution_count": 77,
   "id": "1862ee47",
   "metadata": {},
   "outputs": [
    {
     "data": {
      "text/plain": [
       "([<matplotlib.patches.Wedge at 0x1f4a43ab3a0>,\n",
       "  <matplotlib.patches.Wedge at 0x1f4a43a88b0>],\n",
       " [Text(-1.0576912018226676, -0.3021412278834537, 'F'),\n",
       "  Text(1.0576912301111663, 0.3021411288552552, 'M')],\n",
       " [Text(-0.576922473721455, -0.16480430611824748, '58.9%'),\n",
       "  Text(0.5769224891515452, 0.16480425210286645, '41.1%')])"
      ]
     },
     "execution_count": 77,
     "metadata": {},
     "output_type": "execute_result"
    },
    {
     "data": {
      "image/png": "[encoded data removed]",
      "text/plain": [
       "<Figure size 640x480 with 1 Axes>"
      ]
     },
     "metadata": {},
     "output_type": "display_data"
    }
   ],
   "source": [
    "plt.pie(T_sum, labels=['F', 'M'], \n",
    "        autopct='%.1f%%',\n",
    "        startangle=90,\n",
    "        counterclock=True)"
   ]
  },
  {
   "cell_type": "code",
   "execution_count": 70,
   "id": "240a33e2",
   "metadata": {},
   "outputs": [],
   "source": [
    "for i in range(10):\n",
    "    F_sum += df_list[i].sex.value_counts()[0]\n",
    "    M_sum += df_list[i].sex.value_counts()[1]\n"
   ]
  }
 ],
 "metadata": {
  "kernelspec": {
   "display_name": "Python 3 (ipykernel)",
   "language": "python",
   "name": "python3"
  },
  "language_info": {
   "codemirror_mode": {
    "name": "ipython",
    "version": 3
   },
   "file_extension": ".py",
   "mimetype": "text/x-python",
   "name": "python",
   "nbconvert_exporter": "python",
   "pygments_lexer": "ipython3",
   "version": "3.10.9"
  }
 },
 "nbformat": 4,
 "nbformat_minor": 5
}
